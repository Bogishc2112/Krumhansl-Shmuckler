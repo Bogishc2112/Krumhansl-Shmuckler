{
  "nbformat": 4,
  "nbformat_minor": 0,
  "metadata": {
    "colab": {
      "name": " Krumhansl-Schmuckler3.ipynb",
      "provenance": []
    },
    "kernelspec": {
      "name": "python3",
      "display_name": "Python 3"
    }
  },
  "cells": [
    {
      "cell_type": "code",
      "metadata": {
        "id": "ejRb8P2adExI"
      },
      "source": [
        "import librosa\n",
        "import numpy as np\n",
        "import sys\n",
        "import numpy as np\n",
        "import scipy.linalg\n",
        "import scipy.stats"
      ],
      "execution_count": null,
      "outputs": []
    },
    {
      "cell_type": "code",
      "metadata": {
        "id": "JwV2o5Kltbo8"
      },
      "source": [
        "def chromaextract(path):\n",
        "  y, sr = librosa.load(path, res_type='kaiser_fast')\n",
        "  y_harmonic = librosa.effects.hpss(y)[0]\n",
        "  chroma = librosa.feature.chroma_cqt(y=y_harmonic, sr=sr)\n",
        "  return chroma"
      ],
      "execution_count": null,
      "outputs": []
    },
    {
      "cell_type": "code",
      "metadata": {
        "id": "Y13Z2VvvfNWE"
      },
      "source": [
        "def pitchdistextract(chroma):\n",
        "  dist = np.zeros(12)\n",
        "  notes = chroma.argmax(axis=0)\n",
        "  for i in range(len(notes)):\n",
        "    for k in range(12):\n",
        "      if notes[i] == k:\n",
        "        dist[k] += 1\n",
        "  dist = dist.astype(int)\n",
        "  return dist "
      ],
      "execution_count": null,
      "outputs": []
    },
    {
      "cell_type": "code",
      "metadata": {
        "id": "JoeQw8eshsBe"
      },
      "source": [
        "major = np.asarray([6.35, 2.23, 3.48, 2.33, 4.38, 4.09, 2.52, 5.19, 2.39, 3.66, 2.29, 2.88])\n",
        "minor = np.asarray([6.33, 2.68, 3.52, 5.38, 2.60, 3.53, 2.54, 4.75, 3.98, 2.69, 3.34, 3.17])"
      ],
      "execution_count": null,
      "outputs": []
    },
    {
      "cell_type": "code",
      "metadata": {
        "id": "YqNLlZxVLOln"
      },
      "source": [
        "#revised\n",
        "major = np.asarray([5.0, 2.0, 3.5, 2.0, 4.5, 4.0, 2.0, 4.5, 2.0, 3.5, 1.5, 4.0])\n",
        "minor = np.asarray([5.0, 2.0, 3.5, 4.5, 2.0, 4.0, 2.0, 4.5, 3.5, 2.0, 1.5, 4.0])"
      ],
      "execution_count": null,
      "outputs": []
    },
    {
      "cell_type": "code",
      "metadata": {
        "id": "9SfvatCBjdLn"
      },
      "source": [
        "def step_dist(x):\n",
        "  y = x[1:]\n",
        "  y = np.append(y, x[0])\n",
        "  return y"
      ],
      "execution_count": null,
      "outputs": []
    },
    {
      "cell_type": "code",
      "metadata": {
        "id": "dinzKwSDmR1C"
      },
      "source": [
        "def notedistinit(dist):\n",
        "  nodedist = np.zeros((12,12))\n",
        "  dist_0 = dist\n",
        "  for i in range(11):\n",
        "      nodedist[i] = dist_0\n",
        "      dist_0 = step_dist(dist_0)\n",
        "  return nodedist"
      ],
      "execution_count": null,
      "outputs": []
    },
    {
      "cell_type": "code",
      "metadata": {
        "id": "NkBSdth8o7YJ"
      },
      "source": [
        "def notecorr(major, minor, nodedist):\n",
        "  corr_raw = np.zeros(24)\n",
        "  for i in range(11):\n",
        "    corr_mat_major = np.corrcoef(nodedist[i], major)\n",
        "    corr_raw[i] = corr_mat_major[1][0]\n",
        "    corr_mat_minor = np.corrcoef(nodedist[i], minor)\n",
        "    corr_raw[i + 12] = corr_mat_minor[1][0]\n",
        "  return corr_raw"
      ],
      "execution_count": null,
      "outputs": []
    },
    {
      "cell_type": "code",
      "metadata": {
        "id": "KaGFkiHbgaW7"
      },
      "source": [
        "song = '/content/Indivision_feat_Boxplot_-_Interceptor_64804447.mp3'\n",
        "dist = pitchdistextract(chromaextract(song))"
      ],
      "execution_count": null,
      "outputs": []
    },
    {
      "cell_type": "code",
      "metadata": {
        "id": "XRvCkbxXhuy-",
        "outputId": "7fff36af-d73f-479c-b40e-c3d835ca5c63",
        "colab": {
          "base_uri": "https://localhost:8080/"
        }
      },
      "source": [
        "print(dist)"
      ],
      "execution_count": null,
      "outputs": [
        {
          "output_type": "stream",
          "text": [
            "[ 573  105  976 1750   57 1260   81 2388  124  506 1604   89]\n"
          ],
          "name": "stdout"
        }
      ]
    },
    {
      "cell_type": "code",
      "metadata": {
        "id": "4be7nJQJeeox",
        "outputId": "b477e886-d78a-46ff-bbb0-0da7ef2a71e1",
        "colab": {
          "base_uri": "https://localhost:8080/"
        }
      },
      "source": [
        "corr_raw = notecorr(major, minor, notedistinit(dist))\n",
        "print(corr_raw)\n",
        "print(np.argmax(corr_raw))"
      ],
      "execution_count": null,
      "outputs": [
        {
          "output_type": "stream",
          "text": [
            "[ 0.19885393 -0.22666706 -0.09184067  0.74574352 -0.68980941  0.3135902\n",
            " -0.32936744  0.29292854  0.0751663  -0.55448076  0.71734457  0.\n",
            "  0.48419649 -0.65153871  0.26431818  0.16165533 -0.04160577  0.09234055\n",
            " -0.5681136   0.88209566 -0.27565787 -0.22273679  0.1228872   0.        ]\n",
            "19\n"
          ],
          "name": "stdout"
        }
      ]
    },
    {
      "cell_type": "code",
      "metadata": {
        "id": "bkOIUp4iIDvj"
      },
      "source": [
        "prediction = corr_raw.argsort()[-3:][::-1]"
      ],
      "execution_count": null,
      "outputs": []
    },
    {
      "cell_type": "code",
      "metadata": {
        "id": "tllv1xhorpLV",
        "outputId": "e8cae6f9-07cb-4ac6-ee27-50925e09a721",
        "colab": {
          "base_uri": "https://localhost:8080/"
        }
      },
      "source": [
        "note_val = ['C major', 'C# major', 'D major', 'D# major', 'E major', 'F major', 'F# major', 'G major', 'G# major', 'A major', 'A# major', 'B major', 'C minor', 'C# minor', 'D minor', 'D# minor', 'E minor', 'F minor', 'F# minor', 'G minor', 'G# minor', 'A minor', 'A# minor', 'B minor']\n",
        "print('top 3 candidates(best-to-worst):', note_val[prediction[0]], note_val[prediction[1]], note_val[prediction[2]])"
      ],
      "execution_count": null,
      "outputs": [
        {
          "output_type": "stream",
          "text": [
            "top 3 candidates(best-to-worst): G minor D# major A# major\n"
          ],
          "name": "stdout"
        }
      ]
    },
    {
      "cell_type": "markdown",
      "metadata": {
        "id": "O-satQ1NeBdJ"
      },
      "source": [
        "name - ground truth - predicted top 1\n",
        "\n",
        "sunking state of mind - Bmajor - Bmajor\n",
        "\n",
        "artificial intelligence holding out - B#minor - A#minor\n",
        "\n",
        "Feint, Veela The journey - F#Major - F#major\n",
        "\n",
        "Indivision, Boxplot Interceptor - Gminor - Gminor\n",
        "\n",
        "Justice civilization - Aminor - Aminor\n",
        "\n",
        "Pendulum Hold your colour - Fminor - Eminor\n",
        "\n",
        "Priority one City needs sleep - F#minor - F#minor\n",
        "\n",
        "Priority one hunted - Bminor - Aminor\n",
        "\n",
        "rob gasser taking over - D#minor - Emajor\n",
        "\n",
        "the prototypes kill the silence - D#major - Fminor\n",
        "\n",
        "antonio vivaldi four seasons fall - Amajor - Fmajor\n",
        "\n",
        "black sabbath paranoid - Eminor - Eminor\n",
        "\n",
        "eoin o broin deep space - F#major - C#major\n",
        "\n",
        "s.p.y. rock da house - D#major - Eminor \n",
        "\n",
        "kino v nashih glazah - Bmajor - Eminor\n",
        "\n",
        "B-complex beautiful lies - Amajor - Dminor\n",
        "\n",
        "Correct/minor error/incorrect: 6/3/7"
      ]
    }
  ]
}